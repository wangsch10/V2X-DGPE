{
 "cells": [
  {
   "cell_type": "markdown",
   "id": "abadd51c",
   "metadata": {},
   "source": [
    "# Train debug"
   ]
  },
  {
   "cell_type": "code",
   "execution_count": 3,
   "id": "cbb496f7",
   "metadata": {},
   "outputs": [],
   "source": [
    "import argparse\n",
    "import os\n",
    "import statistics\n",
    "\n",
    "import torch\n",
    "from torch.utils.data import DataLoader\n",
    "from tensorboardX import SummaryWriter\n",
    "\n",
    "import importlib\n",
    "import opencood.hypes_yaml.yaml_utils as yaml_utils\n",
    "from opencood.tools import train_utils\n",
    "from opencood.data_utils.datasets import build_dataset\n",
    "import glob\n",
    "from icecream import ic\n",
    "\n",
    "\n",
    "def train_parser():\n",
    "    parser = argparse.ArgumentParser(description=\"synthetic data generation\")\n",
    "    parser.add_argument(\"--hypes_yaml\", \"-y\", type=str, default='/home/yc37929/lixiang/CoAlign_1130/opencood/hypes_yaml/dairv2x/camera_kd/lss_intermediate_kd_debug.yaml',\n",
    "                        help='data generation yaml file needed ')\n",
    "    parser.add_argument('--model_dir', default='',\n",
    "                        help='Continued training path')\n",
    "    parser.add_argument('--fusion_method', '-f', default=\"intermediate\",\n",
    "                        help='passed to inference.')\n",
    "\n",
    "    opt = parser.parse_args()\n",
    "    return opt"
   ]
  },
  {
   "cell_type": "code",
   "execution_count": 4,
   "id": "24ad9eb6",
   "metadata": {},
   "outputs": [],
   "source": [
    "opt = train_parser()\n",
    "hypes = yaml_utils.load_yaml(opt.hypes_yaml, opt)"
   ]
  },
  {
   "cell_type": "code",
   "execution_count": 6,
   "id": "ac63ea98",
   "metadata": {},
   "outputs": [
    {
     "name": "stdout",
     "output_type": "stream",
     "text": [
      "Dataset Building\n",
      "random_world_flip\n",
      "random_world_rotation\n",
      "random_world_scaling\n",
      "communication range:  100\n"
     ]
    },
    {
     "ename": "FileNotFoundError",
     "evalue": "[Errno 2] No such file or directory: 'dataset/cooperative-vehicle-infrastructure/train.json'",
     "output_type": "error",
     "traceback": [
      "\u001b[0;31m---------------------------------------------------------------------------\u001b[0m",
      "\u001b[0;31mFileNotFoundError\u001b[0m                         Traceback (most recent call last)",
      "Cell \u001b[0;32mIn[6], line 2\u001b[0m\n\u001b[1;32m      1\u001b[0m \u001b[38;5;28mprint\u001b[39m(\u001b[38;5;124m'\u001b[39m\u001b[38;5;124mDataset Building\u001b[39m\u001b[38;5;124m'\u001b[39m)\n\u001b[0;32m----> 2\u001b[0m opencood_train_dataset \u001b[38;5;241m=\u001b[39m \u001b[43mbuild_dataset\u001b[49m\u001b[43m(\u001b[49m\u001b[43mhypes\u001b[49m\u001b[43m,\u001b[49m\u001b[43m \u001b[49m\u001b[43mvisualize\u001b[49m\u001b[38;5;241;43m=\u001b[39;49m\u001b[38;5;28;43;01mFalse\u001b[39;49;00m\u001b[43m,\u001b[49m\u001b[43m \u001b[49m\u001b[43mtrain\u001b[49m\u001b[38;5;241;43m=\u001b[39;49m\u001b[38;5;28;43;01mTrue\u001b[39;49;00m\u001b[43m)\u001b[49m\n\u001b[1;32m      3\u001b[0m opencood_validate_dataset \u001b[38;5;241m=\u001b[39m build_dataset(hypes, visualize\u001b[38;5;241m=\u001b[39m\u001b[38;5;28;01mFalse\u001b[39;00m, train\u001b[38;5;241m=\u001b[39m\u001b[38;5;28;01mFalse\u001b[39;00m)\n\u001b[1;32m      5\u001b[0m train_loader \u001b[38;5;241m=\u001b[39m DataLoader(opencood_train_dataset,\n\u001b[1;32m      6\u001b[0m                           batch_size\u001b[38;5;241m=\u001b[39mhypes[\u001b[38;5;124m'\u001b[39m\u001b[38;5;124mtrain_params\u001b[39m\u001b[38;5;124m'\u001b[39m][\u001b[38;5;124m'\u001b[39m\u001b[38;5;124mbatch_size\u001b[39m\u001b[38;5;124m'\u001b[39m],\n\u001b[1;32m      7\u001b[0m                           num_workers\u001b[38;5;241m=\u001b[39m\u001b[38;5;241m8\u001b[39m,\n\u001b[0;32m   (...)\u001b[0m\n\u001b[1;32m     10\u001b[0m                           pin_memory\u001b[38;5;241m=\u001b[39m\u001b[38;5;28;01mTrue\u001b[39;00m,\n\u001b[1;32m     11\u001b[0m                           drop_last\u001b[38;5;241m=\u001b[39m\u001b[38;5;28;01mTrue\u001b[39;00m)\n",
      "File \u001b[0;32m~/lixiang/CoAlign_1130/opencood/data_utils/datasets/__init__.py:24\u001b[0m, in \u001b[0;36mbuild_dataset\u001b[0;34m(dataset_cfg, visualize, train)\u001b[0m\n\u001b[1;32m     21\u001b[0m base_dataset_cls \u001b[38;5;241m=\u001b[39m dataset_name\u001b[38;5;241m.\u001b[39mupper() \u001b[38;5;241m+\u001b[39m \u001b[38;5;124m\"\u001b[39m\u001b[38;5;124mBaseDataset\u001b[39m\u001b[38;5;124m\"\u001b[39m\n\u001b[1;32m     22\u001b[0m base_dataset_cls \u001b[38;5;241m=\u001b[39m \u001b[38;5;28meval\u001b[39m(base_dataset_cls)\n\u001b[0;32m---> 24\u001b[0m dataset \u001b[38;5;241m=\u001b[39m \u001b[43mfusion_dataset_func\u001b[49m\u001b[43m(\u001b[49m\u001b[43mbase_dataset_cls\u001b[49m\u001b[43m)\u001b[49m\u001b[43m(\u001b[49m\n\u001b[1;32m     25\u001b[0m \u001b[43m    \u001b[49m\u001b[43mparams\u001b[49m\u001b[38;5;241;43m=\u001b[39;49m\u001b[43mdataset_cfg\u001b[49m\u001b[43m,\u001b[49m\n\u001b[1;32m     26\u001b[0m \u001b[43m    \u001b[49m\u001b[43mvisualize\u001b[49m\u001b[38;5;241;43m=\u001b[39;49m\u001b[43mvisualize\u001b[49m\u001b[43m,\u001b[49m\n\u001b[1;32m     27\u001b[0m \u001b[43m    \u001b[49m\u001b[43mtrain\u001b[49m\u001b[38;5;241;43m=\u001b[39;49m\u001b[43mtrain\u001b[49m\n\u001b[1;32m     28\u001b[0m \u001b[43m\u001b[49m\u001b[43m)\u001b[49m\n\u001b[1;32m     30\u001b[0m \u001b[38;5;28;01mreturn\u001b[39;00m dataset\n",
      "File \u001b[0;32m~/lixiang/CoAlign_1130/opencood/data_utils/datasets/intermediate_fusion_dataset.py:39\u001b[0m, in \u001b[0;36mgetIntermediateFusionDataset.<locals>.IntermediateFusionDataset.__init__\u001b[0;34m(self, params, visualize, train)\u001b[0m\n\u001b[1;32m     38\u001b[0m \u001b[38;5;28;01mdef\u001b[39;00m \u001b[38;5;21m__init__\u001b[39m(\u001b[38;5;28mself\u001b[39m, params, visualize, train\u001b[38;5;241m=\u001b[39m\u001b[38;5;28;01mTrue\u001b[39;00m):\n\u001b[0;32m---> 39\u001b[0m     \u001b[38;5;28;43msuper\u001b[39;49m\u001b[43m(\u001b[49m\u001b[43m)\u001b[49m\u001b[38;5;241;43m.\u001b[39;49m\u001b[38;5;21;43m__init__\u001b[39;49m\u001b[43m(\u001b[49m\u001b[43mparams\u001b[49m\u001b[43m,\u001b[49m\u001b[43m \u001b[49m\u001b[43mvisualize\u001b[49m\u001b[43m,\u001b[49m\u001b[43m \u001b[49m\u001b[43mtrain\u001b[49m\u001b[43m)\u001b[49m\n\u001b[1;32m     40\u001b[0m     \u001b[38;5;66;03m# intermediate and supervise single\u001b[39;00m\n\u001b[1;32m     41\u001b[0m     \u001b[38;5;28mself\u001b[39m\u001b[38;5;241m.\u001b[39msupervise_single \u001b[38;5;241m=\u001b[39m \u001b[38;5;28;01mTrue\u001b[39;00m \u001b[38;5;28;01mif\u001b[39;00m (\u001b[38;5;124m'\u001b[39m\u001b[38;5;124msupervise_single\u001b[39m\u001b[38;5;124m'\u001b[39m \u001b[38;5;129;01min\u001b[39;00m params[\u001b[38;5;124m'\u001b[39m\u001b[38;5;124mmodel\u001b[39m\u001b[38;5;124m'\u001b[39m][\u001b[38;5;124m'\u001b[39m\u001b[38;5;124margs\u001b[39m\u001b[38;5;124m'\u001b[39m] \u001b[38;5;129;01mand\u001b[39;00m params[\u001b[38;5;124m'\u001b[39m\u001b[38;5;124mmodel\u001b[39m\u001b[38;5;124m'\u001b[39m][\u001b[38;5;124m'\u001b[39m\u001b[38;5;124margs\u001b[39m\u001b[38;5;124m'\u001b[39m][\u001b[38;5;124m'\u001b[39m\u001b[38;5;124msupervise_single\u001b[39m\u001b[38;5;124m'\u001b[39m]) \\\n\u001b[1;32m     42\u001b[0m                                 \u001b[38;5;28;01melse\u001b[39;00m \u001b[38;5;28;01mFalse\u001b[39;00m\n",
      "File \u001b[0;32m~/lixiang/CoAlign_1130/opencood/data_utils/datasets/basedataset/dairv2x_basedataset.py:110\u001b[0m, in \u001b[0;36mDAIRV2XBaseDataset.__init__\u001b[0;34m(self, params, visualize, train)\u001b[0m\n\u001b[1;32m    106\u001b[0m \u001b[38;5;28mself\u001b[39m\u001b[38;5;241m.\u001b[39mroot_dir \u001b[38;5;241m=\u001b[39m params[\u001b[38;5;124m'\u001b[39m\u001b[38;5;124mdata_dir\u001b[39m\u001b[38;5;124m'\u001b[39m]\n\u001b[1;32m    108\u001b[0m \u001b[38;5;28mprint\u001b[39m(\u001b[38;5;124m'\u001b[39m\u001b[38;5;124mcommunication range: \u001b[39m\u001b[38;5;124m'\u001b[39m, \u001b[38;5;28mself\u001b[39m\u001b[38;5;241m.\u001b[39mparams[\u001b[38;5;124m'\u001b[39m\u001b[38;5;124mcomm_range\u001b[39m\u001b[38;5;124m'\u001b[39m])\n\u001b[0;32m--> 110\u001b[0m \u001b[38;5;28mself\u001b[39m\u001b[38;5;241m.\u001b[39msplit_info \u001b[38;5;241m=\u001b[39m \u001b[43mread_json\u001b[49m\u001b[43m(\u001b[49m\u001b[43msplit_dir\u001b[49m\u001b[43m)\u001b[49m\n\u001b[1;32m    111\u001b[0m co_datainfo \u001b[38;5;241m=\u001b[39m read_json(os\u001b[38;5;241m.\u001b[39mpath\u001b[38;5;241m.\u001b[39mjoin(\u001b[38;5;28mself\u001b[39m\u001b[38;5;241m.\u001b[39mroot_dir, \u001b[38;5;124m'\u001b[39m\u001b[38;5;124mcooperative/data_info.json\u001b[39m\u001b[38;5;124m'\u001b[39m))\n\u001b[1;32m    112\u001b[0m \u001b[38;5;28mself\u001b[39m\u001b[38;5;241m.\u001b[39mco_data \u001b[38;5;241m=\u001b[39m OrderedDict()\n",
      "File \u001b[0;32m~/lixiang/CoAlign_1130/opencood/utils/common_utils.py:65\u001b[0m, in \u001b[0;36mread_json\u001b[0;34m(file_path)\u001b[0m\n\u001b[1;32m     64\u001b[0m \u001b[38;5;28;01mdef\u001b[39;00m \u001b[38;5;21mread_json\u001b[39m(file_path):\n\u001b[0;32m---> 65\u001b[0m     \u001b[38;5;28;01mwith\u001b[39;00m \u001b[38;5;28;43mopen\u001b[39;49m\u001b[43m(\u001b[49m\u001b[43mfile_path\u001b[49m\u001b[43m,\u001b[49m\u001b[43m \u001b[49m\u001b[38;5;124;43m'\u001b[39;49m\u001b[38;5;124;43mr\u001b[39;49m\u001b[38;5;124;43m'\u001b[39;49m\u001b[43m)\u001b[49m \u001b[38;5;28;01mas\u001b[39;00m f:\n\u001b[1;32m     66\u001b[0m         data \u001b[38;5;241m=\u001b[39m json\u001b[38;5;241m.\u001b[39mload(f)\n\u001b[1;32m     68\u001b[0m     \u001b[38;5;28;01mreturn\u001b[39;00m data\n",
      "\u001b[0;31mFileNotFoundError\u001b[0m: [Errno 2] No such file or directory: 'dataset/cooperative-vehicle-infrastructure/train.json'"
     ]
    }
   ],
   "source": [
    "print('Dataset Building')\n",
    "opencood_train_dataset = build_dataset(hypes, visualize=False, train=True)\n",
    "opencood_validate_dataset = build_dataset(hypes, visualize=False, train=False)\n",
    "\n",
    "train_loader = DataLoader(opencood_train_dataset,\n",
    "                          batch_size=hypes['train_params']['batch_size'],\n",
    "                          num_workers=8,\n",
    "                          collate_fn=opencood_train_dataset.collate_batch_train,\n",
    "                          shuffle=True,\n",
    "                          pin_memory=True,\n",
    "                          drop_last=True)\n",
    "val_loader = DataLoader(opencood_validate_dataset,\n",
    "                        batch_size=hypes['train_params']['batch_size'],\n",
    "                        num_workers=8,\n",
    "                        collate_fn=opencood_train_dataset.collate_batch_train,\n",
    "                        shuffle=True,\n",
    "                        pin_memory=True,\n",
    "                        drop_last=True)"
   ]
  },
  {
   "cell_type": "code",
   "execution_count": null,
   "id": "76ae4ab6",
   "metadata": {},
   "outputs": [],
   "source": []
  }
 ],
 "metadata": {
  "kernelspec": {
   "display_name": "Python 3 (ipykernel)",
   "language": "python",
   "name": "python3"
  },
  "language_info": {
   "codemirror_mode": {
    "name": "ipython",
    "version": 3
   },
   "file_extension": ".py",
   "mimetype": "text/x-python",
   "name": "python",
   "nbconvert_exporter": "python",
   "pygments_lexer": "ipython3",
   "version": "3.7.12"
  }
 },
 "nbformat": 4,
 "nbformat_minor": 5
}
